{
  "nbformat": 4,
  "nbformat_minor": 0,
  "metadata": {
    "colab": {
      "name": "resnet-on-cifar10.ipynb",
      "provenance": [],
      "collapsed_sections": [],
      "authorship_tag": "ABX9TyO7hddOuR1CzHybmUtQ/m23",
      "include_colab_link": true
    },
    "kernelspec": {
      "name": "python3",
      "display_name": "Python 3"
    },
    "accelerator": "GPU"
  },
  "cells": [
    {
      "cell_type": "markdown",
      "metadata": {
        "id": "view-in-github",
        "colab_type": "text"
      },
      "source": [
        "<a href=\"https://colab.research.google.com/github/nakul-jindal/Resnet-on-CIFAR10/blob/master/resnet_on_cifar10.ipynb\" target=\"_parent\"><img src=\"https://colab.research.google.com/assets/colab-badge.svg\" alt=\"Open In Colab\"/></a>"
      ]
    },
    {
      "cell_type": "markdown",
      "metadata": {
        "id": "tdQqtaCWilW4",
        "colab_type": "text"
      },
      "source": [
        "network inputs are 32×32 images, with the per-pixel mean\n",
        "subtracted. \n",
        "\n",
        "The subsampling is performed by convolutions with a stride of 2. \n",
        "\n",
        "The network ends with a global average pooling, a 10-way fully-connected layer, and softmax. \n",
        "\n",
        "There are totally 6n+2 stacked weighted layers\n",
        "\n",
        "output map size 32×32 16×16 8×8\n",
        " #layers         1+2n     2n 2n\n",
        " #filters        16       32 64\n",
        "\n",
        " weight decay of 0.0001 and momentum of 0.9\n",
        "\n",
        " no dropout\n",
        "\n",
        "batch size of 128 on GPU\n",
        "\n",
        "We start with a learning\n",
        "rate of 0.1, divide it by 10 at intervals\n",
        "\n",
        "4 pixels are padded on each side,\n",
        "and a 32×32 crop is randomly sampled from the padded\n",
        "image or its horizontal flip. For testing, we only evaluate\n",
        "the single view of the original 32×32 image\n",
        "\n",
        "compare n = {3, 5, 7, 9}, leading to 20, 32, 44, and\n",
        "56-layer networks\n"
      ]
    },
    {
      "cell_type": "code",
      "metadata": {
        "id": "T5SpkTn46dFJ",
        "colab_type": "code",
        "colab": {}
      },
      "source": [
        "import torch\n",
        "import torch.nn as nn\n",
        "import torch.nn.functional as F\n",
        "import torchvision\n",
        "import torchvision.transforms as transforms\n",
        "from torch.optim.lr_scheduler import StepLR"
      ],
      "execution_count": 0,
      "outputs": []
    },
    {
      "cell_type": "code",
      "metadata": {
        "id": "nSei1icrEchx",
        "colab_type": "code",
        "outputId": "ddcdb37b-0ce9-4389-9637-27158f6207a3",
        "colab": {
          "base_uri": "https://localhost:8080/",
          "height": 53
        }
      },
      "source": [
        "transform = transforms.Compose([transforms.RandomHorizontalFlip(p=0.5) , transforms.RandomCrop(size=32,padding=4), transforms.ToTensor(), transforms.Normalize((0.4914, 0.4822, 0.4465),(0.247, 0.243, 0.261))])\n",
        "trainset = torchvision.datasets.CIFAR10(root='./data', train=True, download=True, transform=transform)\n",
        "trainloader = torch.utils.data.DataLoader(trainset, batch_size=128, shuffle=True, num_workers=2)\n",
        "testset = torchvision.datasets.CIFAR10(root='./data', train=False, download=True, transform=transform)\n",
        "testloader = torch.utils.data.DataLoader(testset, batch_size=128, shuffle=False, num_workers=2)"
      ],
      "execution_count": 0,
      "outputs": [
        {
          "output_type": "stream",
          "text": [
            "Files already downloaded and verified\n",
            "Files already downloaded and verified\n"
          ],
          "name": "stdout"
        }
      ]
    },
    {
      "cell_type": "code",
      "metadata": {
        "id": "hE7tiuMR62tq",
        "colab_type": "code",
        "outputId": "8e015a9a-1f6b-4d27-c4ce-18543942ab86",
        "colab": {
          "base_uri": "https://localhost:8080/",
          "height": 35
        }
      },
      "source": [
        "device = torch.device(\"cuda:0\" if torch.cuda.is_available() else \"cpu\")\n",
        "print(device)"
      ],
      "execution_count": 0,
      "outputs": [
        {
          "output_type": "stream",
          "text": [
            "cuda:0\n"
          ],
          "name": "stdout"
        }
      ]
    },
    {
      "cell_type": "code",
      "metadata": {
        "id": "_b9VUB9q_KvI",
        "colab_type": "code",
        "colab": {}
      },
      "source": [
        "class simple(nn.Module):\n",
        "    def __init__(self, in_channels, out_channels, stride=1, down_sample=None) :\n",
        "        super(simple, self).__init__()\n",
        "        self.conv1=nn.Conv2d(in_channels, out_channels, kernel_size=3,stride=stride, padding=1, bias=False)\n",
        "        self.bn1=nn.BatchNorm2d(out_channels)\n",
        "        self.conv2=nn.Conv2d(out_channels, out_channels, kernel_size=3,stride=1, padding=1, bias=False)\n",
        "        self.bn2=nn.BatchNorm2d(out_channels)\n",
        "        self.down_sample=down_sample\n",
        "        self.relu=nn.ReLU(inplace=True)\n",
        "\n",
        "    def forward(self,x):\n",
        "      res=x\n",
        "      out = self.relu(self.bn1(self.conv1(x)))\n",
        "      out = self.bn2(self.conv2(out))\n",
        "      if self.down_sample:\n",
        "        res=self.down_sample(x)\n",
        "      out= self.relu(out+res)\n",
        "      return out    "
      ],
      "execution_count": 0,
      "outputs": []
    },
    {
      "cell_type": "code",
      "metadata": {
        "id": "nkx7K4mjHYEh",
        "colab_type": "code",
        "colab": {}
      },
      "source": [
        "class Bottleneck(nn.Module):\n",
        "  def __init__(self, in_channels, out_channels, stride=1, down_sampling=None):\n",
        "    super(Bottleneck, self).__init__()\n",
        "    self.conv1=nn.Conv2d(in_channels, out_channels//4, kernel_size=1,stride=stride, padding=0, bias=False)\n",
        "    self.bn1=nn.BatchNorm2d(out_channels//4)\n",
        "    self.relu=nn.ReLU(inplace=True)  \n",
        "    self.conv2=nn.Conv2d(out_channels//4, out_channels//4, kernel_size=3,stride=1, padding=1, bias=False)\n",
        "    self.bn2=nn.BatchNorm2d(out_channels//4)\n",
        "    self.conv3=nn.Conv2d(out_channels//4, out_channels, kernel_size=1,stride=1, padding=0, bias=False)\n",
        "    self.bn3=nn.BatchNorm2d(out_channels)\n",
        "\n",
        "    self.down_sampling=down_sampling\n",
        "  def forward(self,x):\n",
        "    res=x\n",
        "    out = self.conv1(x)\n",
        "    out = self.bn1(out)\n",
        "    out = self.relu(out)\n",
        "    out = self.conv2(out)\n",
        "    out = self.bn2(out)\n",
        "    out = self.relu(out)\n",
        "    out=self.conv3(out)\n",
        "    out=self.bn3(out)\n",
        "    if self.down_sampling:\n",
        "      res=self.down_sampling(x)\n",
        "    out = out+res \n",
        "    out= self.relu(out)\n",
        "    return out"
      ],
      "execution_count": 0,
      "outputs": []
    },
    {
      "cell_type": "code",
      "metadata": {
        "id": "xz7KgsprI06U",
        "colab_type": "code",
        "colab": {}
      },
      "source": [
        "class Net(nn.Module):\n",
        "    def __init__(self, block, layers, num_classes=10):\n",
        "       super(Net, self).__init__()\n",
        "       self.in_channels=16\n",
        "       self.conv=nn.Conv2d(3,16, kernel_size=3,stride=1, padding=1, bias=False)\n",
        "       self.bn=nn.BatchNorm2d(16)\n",
        "       self.relu = nn.ReLU(inplace=True)\n",
        "       self.l1 = self.make_layer(block, 16, layers[0])\n",
        "       self.l2 = self.make_layer(block, 32, layers[1], 2)\n",
        "       self.l3 = self.make_layer(block, 64, layers[2], 2)\n",
        "       self.avg_pool = nn.AvgPool2d(8)\n",
        "       self.fc = nn.Linear(64, num_classes)\n",
        "\n",
        "    def make_layer(self, block, out_channels, blocks, stride=1):\n",
        "       down_sample = None\n",
        "       if (stride != 1) or (self.in_channels != out_channels):\n",
        "            down_sample = nn.Sequential( nn.Conv2d(self.in_channels, out_channels, kernel_size=3,stride=stride, padding=1, bias=False), nn.BatchNorm2d(out_channels))\n",
        "       layers = []\n",
        "       layers.append(block(self.in_channels, out_channels, stride, down_sample))\n",
        "       self.in_channels=out_channels\n",
        "       for i in range(1, blocks):\n",
        "            layers.append(block(out_channels, out_channels))\n",
        "       return nn.Sequential(*layers)\n",
        "    \n",
        "    def forward(self, x):\n",
        "        out = self.relu(self.bn(self.conv(x)))\n",
        "        out = self.l1(out)\n",
        "        out = self.l2(out)\n",
        "        out = self.l3(out)\n",
        "        out = self.avg_pool(out)\n",
        "        out = out.view(out.size(0), -1)\n",
        "        out = self.fc(out)\n",
        "        return out\n"
      ],
      "execution_count": 0,
      "outputs": []
    },
    {
      "cell_type": "code",
      "metadata": {
        "id": "NtSInerfHe1k",
        "colab_type": "code",
        "colab": {}
      },
      "source": [
        "n=7\n",
        "model = Net(block=simple, layers=[n,n,n]).to(device)"
      ],
      "execution_count": 0,
      "outputs": []
    },
    {
      "cell_type": "code",
      "metadata": {
        "id": "UBiwKAbMUDZw",
        "colab_type": "code",
        "colab": {}
      },
      "source": [
        "import torch.optim as optim\n",
        "criterion = nn.CrossEntropyLoss()\n",
        "optimizer = optim.SGD(model.parameters(), lr=0.1, momentum=0.9, weight_decay=0.0001, nesterov=True)              \n",
        "scheduler = StepLR(optimizer, step_size=55, gamma=0.1)"
      ],
      "execution_count": 0,
      "outputs": []
    },
    {
      "cell_type": "code",
      "metadata": {
        "id": "v4c4D3cPUJc4",
        "colab_type": "code",
        "colab": {}
      },
      "source": [
        "for epoch in range(165):  \n",
        "\n",
        "    running_loss = 0.0\n",
        "    for i, data in enumerate(trainloader, 0):\n",
        "        inputs, labels = data[0].to(device), data[1].to(device)\n",
        "        inputs = inputs.requires_grad_()\n",
        "        optimizer.zero_grad()\n",
        "\n",
        "        outputs = model(inputs)\n",
        "        loss = criterion(outputs, labels)\n",
        "        loss.backward()\n",
        "        optimizer.step()\n",
        " \n",
        "        running_loss += loss.item()\n",
        "        if i % 300 == 299:    \n",
        "            print('[%d, %5d] loss: %.3f' %\n",
        "                  (epoch + 1, i + 1, running_loss / 300))\n",
        "            running_loss = 0.0\n",
        "        \n",
        "        \n",
        "    scheduler.step()\n",
        "\n",
        "print('Finished Training')"
      ],
      "execution_count": 0,
      "outputs": []
    },
    {
      "cell_type": "code",
      "metadata": {
        "id": "pUqAk7KeUsjo",
        "colab_type": "code",
        "colab": {}
      },
      "source": [
        "correct = 0\n",
        "total = 0\n",
        "with torch.no_grad():\n",
        "    for images, labels in testloader:\n",
        "        images = images.to(device)\n",
        "        labels = labels.to(device)\n",
        "        outputs = model(images)\n",
        "        _, predicted = torch.max(outputs.data, 1)\n",
        "        total += labels.size(0)\n",
        "        correct += (predicted == labels).sum().item()\n",
        "\n",
        "print('Accuracy of the simple residual network on the 10000 test images: %d %%' % (\n",
        "    100 * correct / total))\n"
      ],
      "execution_count": 0,
      "outputs": []
    },
    {
      "cell_type": "code",
      "metadata": {
        "id": "1njSOeRrUzjN",
        "colab_type": "code",
        "colab": {}
      },
      "source": [
        "classes = ('plane', 'car', 'bird', 'cat',\n",
        "           'deer', 'dog', 'frog', 'horse', 'ship', 'truck')\n",
        "class_correct = list(0. for i in range(10))\n",
        "class_total = list(0. for i in range(10))\n",
        "with torch.no_grad():\n",
        "    for data in testloader:\n",
        "        images, labels = data[0].to(device), data[1].to(device)\n",
        "        outputs = model(images)\n",
        "        _, predicted = torch.max(outputs, 1)\n",
        "        c = (predicted == labels).squeeze()\n",
        "        for i in range(4):\n",
        "            label = labels[i]\n",
        "            class_correct[label] += c[i].item()\n",
        "            class_total[label] += 1\n",
        "\n",
        "print ('for simple residual network')\n",
        "\n",
        "for i in range(10):\n",
        "    print('Accuracy of %5s : %2d %%' % (\n",
        "        classes[i], 100 * class_correct[i] / class_total[i]))"
      ],
      "execution_count": 0,
      "outputs": []
    },
    {
      "cell_type": "code",
      "metadata": {
        "id": "AiUaeLLYL7Fl",
        "colab_type": "code",
        "colab": {}
      },
      "source": [
        "n=7\n",
        "model = Net(block=Bottleneck , layers=[n,n,n]).to(device)"
      ],
      "execution_count": 0,
      "outputs": []
    },
    {
      "cell_type": "code",
      "metadata": {
        "id": "DUJflahXMD6B",
        "colab_type": "code",
        "colab": {}
      },
      "source": [
        "import torch.optim as optim\n",
        "criterion = nn.CrossEntropyLoss()\n",
        "optimizer = optim.SGD(model.parameters(), lr=0.1, momentum=0.9, weight_decay=0.0001, nesterov=True)           #     \n",
        "scheduler = StepLR(optimizer, step_size=55, gamma=0.1)"
      ],
      "execution_count": 0,
      "outputs": []
    },
    {
      "cell_type": "code",
      "metadata": {
        "id": "fqBnQCABHiYK",
        "colab_type": "code",
        "colab": {}
      },
      "source": [
        "for epoch in range(165):  \n",
        "\n",
        "    running_loss = 0.0\n",
        "    for i, data in enumerate(trainloader, 0):\n",
        "        inputs, labels = data[0].to(device), data[1].to(device)\n",
        "        inputs = inputs.requires_grad_()\n",
        "        optimizer.zero_grad()\n",
        "\n",
        "        outputs = model(inputs)\n",
        "        loss = criterion(outputs, labels)\n",
        "        loss.backward()\n",
        "        optimizer.step()\n",
        " \n",
        "        running_loss += loss.item()\n",
        "        if i % 300 == 299:    \n",
        "            print('[%d, %5d] loss: %.3f' %\n",
        "                  (epoch + 1, i + 1, running_loss / 300))\n",
        "            running_loss = 0.0\n",
        "        \n",
        "        \n",
        "    scheduler.step()\n",
        "\n",
        "print('Finished Training')"
      ],
      "execution_count": 0,
      "outputs": []
    },
    {
      "cell_type": "code",
      "metadata": {
        "id": "1_NkNfJfHRMy",
        "colab_type": "code",
        "colab": {}
      },
      "source": [
        "correct = 0\n",
        "total = 0\n",
        "with torch.no_grad():\n",
        "    for images, labels in testloader:\n",
        "        images = images.to(device)\n",
        "        labels = labels.to(device)\n",
        "        outputs = model(images)\n",
        "        _, predicted = torch.max(outputs.data, 1)\n",
        "        total += labels.size(0)\n",
        "        correct += (predicted == labels).sum().item()\n",
        "\n",
        "print('Accuracy of the bottleneck residual network on the 10000 test images: %d %%' % (\n",
        "    100 * correct / total))"
      ],
      "execution_count": 0,
      "outputs": []
    },
    {
      "cell_type": "code",
      "metadata": {
        "id": "DMAvWpCWHJ-P",
        "colab_type": "code",
        "colab": {}
      },
      "source": [
        "classes = ('plane', 'car', 'bird', 'cat',\n",
        "           'deer', 'dog', 'frog', 'horse', 'ship', 'truck')\n",
        "class_correct = list(0. for i in range(10))\n",
        "class_total = list(0. for i in range(10))\n",
        "with torch.no_grad():\n",
        "    for data in testloader:\n",
        "        images, labels = data[0].to(device), data[1].to(device)\n",
        "        outputs = model(images)\n",
        "        _, predicted = torch.max(outputs, 1)\n",
        "        c = (predicted == labels).squeeze()\n",
        "        for i in range(4):\n",
        "            label = labels[i]\n",
        "            class_correct[label] += c[i].item()\n",
        "            class_total[label] += 1\n",
        "\n",
        "print ('for bottleneck residual network')\n",
        "\n",
        "for i in range(10):\n",
        "    print('Accuracy of %5s : %2d %%' % (\n",
        "        classes[i], 100 * class_correct[i] / class_total[i]))"
      ],
      "execution_count": 0,
      "outputs": []
    }
  ]
}